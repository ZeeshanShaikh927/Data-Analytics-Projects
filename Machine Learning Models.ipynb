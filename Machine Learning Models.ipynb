{
 "cells": [
  {
   "cell_type": "code",
   "execution_count": 3,
   "id": "0fa21ad7",
   "metadata": {},
   "outputs": [],
   "source": [
    "import pandas as pd \n",
    "import numpy as np\n",
    "import seaborn as sb \n",
    "import matplotlib.pyplot as plt\n",
    "import scipy.stats as stats"
   ]
  },
  {
   "cell_type": "code",
   "execution_count": 4,
   "id": "0b5e52e8",
   "metadata": {},
   "outputs": [],
   "source": [
    "df=pd.read_csv(\"Concrete_Data_Yeh.csv\")"
   ]
  },
  {
   "cell_type": "code",
   "execution_count": 5,
   "id": "a5830400",
   "metadata": {},
   "outputs": [
    {
     "data": {
      "text/html": [
       "<div>\n",
       "<style scoped>\n",
       "    .dataframe tbody tr th:only-of-type {\n",
       "        vertical-align: middle;\n",
       "    }\n",
       "\n",
       "    .dataframe tbody tr th {\n",
       "        vertical-align: top;\n",
       "    }\n",
       "\n",
       "    .dataframe thead th {\n",
       "        text-align: right;\n",
       "    }\n",
       "</style>\n",
       "<table border=\"1\" class=\"dataframe\">\n",
       "  <thead>\n",
       "    <tr style=\"text-align: right;\">\n",
       "      <th></th>\n",
       "      <th>cement</th>\n",
       "      <th>slag</th>\n",
       "      <th>flyash</th>\n",
       "      <th>water</th>\n",
       "      <th>superplasticizer</th>\n",
       "      <th>coarseaggregate</th>\n",
       "      <th>fineaggregate</th>\n",
       "      <th>age</th>\n",
       "      <th>csMPa</th>\n",
       "    </tr>\n",
       "  </thead>\n",
       "  <tbody>\n",
       "    <tr>\n",
       "      <th>0</th>\n",
       "      <td>540.0</td>\n",
       "      <td>0.0</td>\n",
       "      <td>0.0</td>\n",
       "      <td>162.0</td>\n",
       "      <td>2.5</td>\n",
       "      <td>1040.0</td>\n",
       "      <td>676.0</td>\n",
       "      <td>28</td>\n",
       "      <td>79.99</td>\n",
       "    </tr>\n",
       "    <tr>\n",
       "      <th>1</th>\n",
       "      <td>540.0</td>\n",
       "      <td>0.0</td>\n",
       "      <td>0.0</td>\n",
       "      <td>162.0</td>\n",
       "      <td>2.5</td>\n",
       "      <td>1055.0</td>\n",
       "      <td>676.0</td>\n",
       "      <td>28</td>\n",
       "      <td>61.89</td>\n",
       "    </tr>\n",
       "    <tr>\n",
       "      <th>2</th>\n",
       "      <td>332.5</td>\n",
       "      <td>142.5</td>\n",
       "      <td>0.0</td>\n",
       "      <td>228.0</td>\n",
       "      <td>0.0</td>\n",
       "      <td>932.0</td>\n",
       "      <td>594.0</td>\n",
       "      <td>270</td>\n",
       "      <td>40.27</td>\n",
       "    </tr>\n",
       "    <tr>\n",
       "      <th>3</th>\n",
       "      <td>332.5</td>\n",
       "      <td>142.5</td>\n",
       "      <td>0.0</td>\n",
       "      <td>228.0</td>\n",
       "      <td>0.0</td>\n",
       "      <td>932.0</td>\n",
       "      <td>594.0</td>\n",
       "      <td>365</td>\n",
       "      <td>41.05</td>\n",
       "    </tr>\n",
       "    <tr>\n",
       "      <th>4</th>\n",
       "      <td>198.6</td>\n",
       "      <td>132.4</td>\n",
       "      <td>0.0</td>\n",
       "      <td>192.0</td>\n",
       "      <td>0.0</td>\n",
       "      <td>978.4</td>\n",
       "      <td>825.5</td>\n",
       "      <td>360</td>\n",
       "      <td>44.30</td>\n",
       "    </tr>\n",
       "    <tr>\n",
       "      <th>...</th>\n",
       "      <td>...</td>\n",
       "      <td>...</td>\n",
       "      <td>...</td>\n",
       "      <td>...</td>\n",
       "      <td>...</td>\n",
       "      <td>...</td>\n",
       "      <td>...</td>\n",
       "      <td>...</td>\n",
       "      <td>...</td>\n",
       "    </tr>\n",
       "    <tr>\n",
       "      <th>1025</th>\n",
       "      <td>276.4</td>\n",
       "      <td>116.0</td>\n",
       "      <td>90.3</td>\n",
       "      <td>179.6</td>\n",
       "      <td>8.9</td>\n",
       "      <td>870.1</td>\n",
       "      <td>768.3</td>\n",
       "      <td>28</td>\n",
       "      <td>44.28</td>\n",
       "    </tr>\n",
       "    <tr>\n",
       "      <th>1026</th>\n",
       "      <td>322.2</td>\n",
       "      <td>0.0</td>\n",
       "      <td>115.6</td>\n",
       "      <td>196.0</td>\n",
       "      <td>10.4</td>\n",
       "      <td>817.9</td>\n",
       "      <td>813.4</td>\n",
       "      <td>28</td>\n",
       "      <td>31.18</td>\n",
       "    </tr>\n",
       "    <tr>\n",
       "      <th>1027</th>\n",
       "      <td>148.5</td>\n",
       "      <td>139.4</td>\n",
       "      <td>108.6</td>\n",
       "      <td>192.7</td>\n",
       "      <td>6.1</td>\n",
       "      <td>892.4</td>\n",
       "      <td>780.0</td>\n",
       "      <td>28</td>\n",
       "      <td>23.70</td>\n",
       "    </tr>\n",
       "    <tr>\n",
       "      <th>1028</th>\n",
       "      <td>159.1</td>\n",
       "      <td>186.7</td>\n",
       "      <td>0.0</td>\n",
       "      <td>175.6</td>\n",
       "      <td>11.3</td>\n",
       "      <td>989.6</td>\n",
       "      <td>788.9</td>\n",
       "      <td>28</td>\n",
       "      <td>32.77</td>\n",
       "    </tr>\n",
       "    <tr>\n",
       "      <th>1029</th>\n",
       "      <td>260.9</td>\n",
       "      <td>100.5</td>\n",
       "      <td>78.3</td>\n",
       "      <td>200.6</td>\n",
       "      <td>8.6</td>\n",
       "      <td>864.5</td>\n",
       "      <td>761.5</td>\n",
       "      <td>28</td>\n",
       "      <td>32.40</td>\n",
       "    </tr>\n",
       "  </tbody>\n",
       "</table>\n",
       "<p>1030 rows × 9 columns</p>\n",
       "</div>"
      ],
      "text/plain": [
       "      cement   slag  flyash  water  superplasticizer  coarseaggregate  \\\n",
       "0      540.0    0.0     0.0  162.0               2.5           1040.0   \n",
       "1      540.0    0.0     0.0  162.0               2.5           1055.0   \n",
       "2      332.5  142.5     0.0  228.0               0.0            932.0   \n",
       "3      332.5  142.5     0.0  228.0               0.0            932.0   \n",
       "4      198.6  132.4     0.0  192.0               0.0            978.4   \n",
       "...      ...    ...     ...    ...               ...              ...   \n",
       "1025   276.4  116.0    90.3  179.6               8.9            870.1   \n",
       "1026   322.2    0.0   115.6  196.0              10.4            817.9   \n",
       "1027   148.5  139.4   108.6  192.7               6.1            892.4   \n",
       "1028   159.1  186.7     0.0  175.6              11.3            989.6   \n",
       "1029   260.9  100.5    78.3  200.6               8.6            864.5   \n",
       "\n",
       "      fineaggregate  age  csMPa  \n",
       "0             676.0   28  79.99  \n",
       "1             676.0   28  61.89  \n",
       "2             594.0  270  40.27  \n",
       "3             594.0  365  41.05  \n",
       "4             825.5  360  44.30  \n",
       "...             ...  ...    ...  \n",
       "1025          768.3   28  44.28  \n",
       "1026          813.4   28  31.18  \n",
       "1027          780.0   28  23.70  \n",
       "1028          788.9   28  32.77  \n",
       "1029          761.5   28  32.40  \n",
       "\n",
       "[1030 rows x 9 columns]"
      ]
     },
     "execution_count": 5,
     "metadata": {},
     "output_type": "execute_result"
    }
   ],
   "source": [
    "df"
   ]
  },
  {
   "cell_type": "code",
   "execution_count": 6,
   "id": "c2979373",
   "metadata": {},
   "outputs": [
    {
     "data": {
      "text/plain": [
       "cement              float64\n",
       "slag                float64\n",
       "flyash              float64\n",
       "water               float64\n",
       "superplasticizer    float64\n",
       "coarseaggregate     float64\n",
       "fineaggregate       float64\n",
       "age                   int64\n",
       "csMPa               float64\n",
       "dtype: object"
      ]
     },
     "execution_count": 6,
     "metadata": {},
     "output_type": "execute_result"
    }
   ],
   "source": [
    "#Check column types and describe which columns are numerical, or categorical\n",
    "df.dtypes"
   ]
  },
  {
   "cell_type": "code",
   "execution_count": 7,
   "id": "d125aee3",
   "metadata": {},
   "outputs": [
    {
     "data": {
      "text/plain": [
       "(1030, 9)"
      ]
     },
     "execution_count": 7,
     "metadata": {},
     "output_type": "execute_result"
    }
   ],
   "source": [
    "#Check dataset size\n",
    "df.shape"
   ]
  },
  {
   "cell_type": "markdown",
   "id": "36cbcca2",
   "metadata": {},
   "source": [
    "# Data preprocessing"
   ]
  },
  {
   "cell_type": "code",
   "execution_count": 8,
   "id": "cdb91bce",
   "metadata": {},
   "outputs": [
    {
     "data": {
      "text/plain": [
       "cement              0\n",
       "slag                0\n",
       "flyash              0\n",
       "water               0\n",
       "superplasticizer    0\n",
       "coarseaggregate     0\n",
       "fineaggregate       0\n",
       "age                 0\n",
       "csMPa               0\n",
       "dtype: int64"
      ]
     },
     "execution_count": 8,
     "metadata": {},
     "output_type": "execute_result"
    }
   ],
   "source": [
    "#Find and treat missing values (If any)\n",
    "df.isnull().sum()"
   ]
  },
  {
   "cell_type": "code",
   "execution_count": 9,
   "id": "5ce5f1a0",
   "metadata": {},
   "outputs": [
    {
     "name": "stdout",
     "output_type": "stream",
     "text": [
      "45.728155339805824 %\n"
     ]
    }
   ],
   "source": [
    "b_0 = df[df['slag']==0].shape[0]/df.shape[0]*100\n",
    "print(b_0,'%')"
   ]
  },
  {
   "cell_type": "code",
   "execution_count": 10,
   "id": "95b9d320",
   "metadata": {},
   "outputs": [
    {
     "name": "stdout",
     "output_type": "stream",
     "text": [
      "54.95145631067962 %\n"
     ]
    }
   ],
   "source": [
    "b_0 = df[df['flyash']==0].shape[0]/df.shape[0]*100\n",
    "print(b_0,'%')"
   ]
  },
  {
   "cell_type": "code",
   "execution_count": 11,
   "id": "c90ca330",
   "metadata": {},
   "outputs": [
    {
     "name": "stdout",
     "output_type": "stream",
     "text": [
      "36.79611650485437 %\n"
     ]
    }
   ],
   "source": [
    "b_0 = df[df['superplasticizer']==0].shape[0]/df.shape[0]*100\n",
    "print(b_0,'%')"
   ]
  },
  {
   "cell_type": "code",
   "execution_count": 12,
   "id": "397e239f",
   "metadata": {},
   "outputs": [
    {
     "data": {
      "text/plain": [
       "cement              281.167864\n",
       "slag                136.158676\n",
       "flyash              120.288793\n",
       "water               181.567282\n",
       "superplasticizer      9.816897\n",
       "coarseaggregate     972.918932\n",
       "fineaggregate       773.580485\n",
       "age                  45.662136\n",
       "csMPa                35.817961\n",
       "dtype: float64"
      ]
     },
     "execution_count": 12,
     "metadata": {},
     "output_type": "execute_result"
    }
   ],
   "source": [
    "df = df.replace(0, np.NaN)\n",
    "df.mean()"
   ]
  },
  {
   "cell_type": "code",
   "execution_count": 13,
   "id": "ce880ba6",
   "metadata": {},
   "outputs": [
    {
     "data": {
      "text/plain": [
       "cement                0\n",
       "slag                471\n",
       "flyash              566\n",
       "water                 0\n",
       "superplasticizer    379\n",
       "coarseaggregate       0\n",
       "fineaggregate         0\n",
       "age                   0\n",
       "csMPa                 0\n",
       "dtype: int64"
      ]
     },
     "execution_count": 13,
     "metadata": {},
     "output_type": "execute_result"
    }
   ],
   "source": [
    "df.isnull().sum()"
   ]
  },
  {
   "cell_type": "code",
   "execution_count": 14,
   "id": "120fc3d7",
   "metadata": {},
   "outputs": [],
   "source": [
    "mediann=df['superplasticizer'].median()\n",
    "df['superplasticizer'].fillna(value=mediann,inplace=True)"
   ]
  },
  {
   "cell_type": "code",
   "execution_count": 15,
   "id": "16519663",
   "metadata": {},
   "outputs": [],
   "source": [
    "mediann=df['slag'].median()\n",
    "df['slag'].fillna(value=mediann,inplace=True)"
   ]
  },
  {
   "cell_type": "code",
   "execution_count": 16,
   "id": "9d726712",
   "metadata": {},
   "outputs": [],
   "source": [
    "mediann=df['flyash'].median()\n",
    "df['flyash'].fillna(value=mediann,inplace=True)"
   ]
  },
  {
   "cell_type": "code",
   "execution_count": 17,
   "id": "d8e4be05",
   "metadata": {},
   "outputs": [
    {
     "data": {
      "text/plain": [
       "cement              0\n",
       "slag                0\n",
       "flyash              0\n",
       "water               0\n",
       "superplasticizer    0\n",
       "coarseaggregate     0\n",
       "fineaggregate       0\n",
       "age                 0\n",
       "csMPa               0\n",
       "dtype: int64"
      ]
     },
     "execution_count": 17,
     "metadata": {},
     "output_type": "execute_result"
    }
   ],
   "source": [
    "df.isnull().sum()"
   ]
  },
  {
   "cell_type": "code",
   "execution_count": 18,
   "id": "aedc614d",
   "metadata": {},
   "outputs": [
    {
     "data": {
      "text/html": [
       "<div>\n",
       "<style scoped>\n",
       "    .dataframe tbody tr th:only-of-type {\n",
       "        vertical-align: middle;\n",
       "    }\n",
       "\n",
       "    .dataframe tbody tr th {\n",
       "        vertical-align: top;\n",
       "    }\n",
       "\n",
       "    .dataframe thead th {\n",
       "        text-align: right;\n",
       "    }\n",
       "</style>\n",
       "<table border=\"1\" class=\"dataframe\">\n",
       "  <thead>\n",
       "    <tr style=\"text-align: right;\">\n",
       "      <th></th>\n",
       "      <th>cement</th>\n",
       "      <th>slag</th>\n",
       "      <th>flyash</th>\n",
       "      <th>water</th>\n",
       "      <th>superplasticizer</th>\n",
       "      <th>coarseaggregate</th>\n",
       "      <th>fineaggregate</th>\n",
       "      <th>age</th>\n",
       "      <th>csMPa</th>\n",
       "    </tr>\n",
       "  </thead>\n",
       "  <tbody>\n",
       "    <tr>\n",
       "      <th>count</th>\n",
       "      <td>1030.000000</td>\n",
       "      <td>1030.000000</td>\n",
       "      <td>1030.000000</td>\n",
       "      <td>1030.000000</td>\n",
       "      <td>1030.000000</td>\n",
       "      <td>1030.000000</td>\n",
       "      <td>1030.000000</td>\n",
       "      <td>1030.000000</td>\n",
       "      <td>1030.000000</td>\n",
       "    </tr>\n",
       "    <tr>\n",
       "      <th>mean</th>\n",
       "      <td>281.167864</td>\n",
       "      <td>135.948932</td>\n",
       "      <td>120.899417</td>\n",
       "      <td>181.567282</td>\n",
       "      <td>9.663495</td>\n",
       "      <td>972.918932</td>\n",
       "      <td>773.580485</td>\n",
       "      <td>45.662136</td>\n",
       "      <td>35.817961</td>\n",
       "    </tr>\n",
       "    <tr>\n",
       "      <th>std</th>\n",
       "      <td>104.506364</td>\n",
       "      <td>53.279837</td>\n",
       "      <td>22.595744</td>\n",
       "      <td>21.354219</td>\n",
       "      <td>3.645923</td>\n",
       "      <td>77.753954</td>\n",
       "      <td>80.175980</td>\n",
       "      <td>63.169912</td>\n",
       "      <td>16.705742</td>\n",
       "    </tr>\n",
       "    <tr>\n",
       "      <th>min</th>\n",
       "      <td>102.000000</td>\n",
       "      <td>11.000000</td>\n",
       "      <td>24.500000</td>\n",
       "      <td>121.800000</td>\n",
       "      <td>1.700000</td>\n",
       "      <td>801.000000</td>\n",
       "      <td>594.000000</td>\n",
       "      <td>1.000000</td>\n",
       "      <td>2.330000</td>\n",
       "    </tr>\n",
       "    <tr>\n",
       "      <th>25%</th>\n",
       "      <td>192.375000</td>\n",
       "      <td>129.800000</td>\n",
       "      <td>121.400000</td>\n",
       "      <td>164.900000</td>\n",
       "      <td>8.200000</td>\n",
       "      <td>932.000000</td>\n",
       "      <td>730.950000</td>\n",
       "      <td>7.000000</td>\n",
       "      <td>23.710000</td>\n",
       "    </tr>\n",
       "    <tr>\n",
       "      <th>50%</th>\n",
       "      <td>272.900000</td>\n",
       "      <td>135.700000</td>\n",
       "      <td>121.400000</td>\n",
       "      <td>185.000000</td>\n",
       "      <td>9.400000</td>\n",
       "      <td>968.000000</td>\n",
       "      <td>779.500000</td>\n",
       "      <td>28.000000</td>\n",
       "      <td>34.445000</td>\n",
       "    </tr>\n",
       "    <tr>\n",
       "      <th>75%</th>\n",
       "      <td>350.000000</td>\n",
       "      <td>142.950000</td>\n",
       "      <td>121.400000</td>\n",
       "      <td>192.000000</td>\n",
       "      <td>10.200000</td>\n",
       "      <td>1029.400000</td>\n",
       "      <td>824.000000</td>\n",
       "      <td>56.000000</td>\n",
       "      <td>46.135000</td>\n",
       "    </tr>\n",
       "    <tr>\n",
       "      <th>max</th>\n",
       "      <td>540.000000</td>\n",
       "      <td>359.400000</td>\n",
       "      <td>200.100000</td>\n",
       "      <td>247.000000</td>\n",
       "      <td>32.200000</td>\n",
       "      <td>1145.000000</td>\n",
       "      <td>992.600000</td>\n",
       "      <td>365.000000</td>\n",
       "      <td>82.600000</td>\n",
       "    </tr>\n",
       "  </tbody>\n",
       "</table>\n",
       "</div>"
      ],
      "text/plain": [
       "            cement         slag       flyash        water  superplasticizer  \\\n",
       "count  1030.000000  1030.000000  1030.000000  1030.000000       1030.000000   \n",
       "mean    281.167864   135.948932   120.899417   181.567282          9.663495   \n",
       "std     104.506364    53.279837    22.595744    21.354219          3.645923   \n",
       "min     102.000000    11.000000    24.500000   121.800000          1.700000   \n",
       "25%     192.375000   129.800000   121.400000   164.900000          8.200000   \n",
       "50%     272.900000   135.700000   121.400000   185.000000          9.400000   \n",
       "75%     350.000000   142.950000   121.400000   192.000000         10.200000   \n",
       "max     540.000000   359.400000   200.100000   247.000000         32.200000   \n",
       "\n",
       "       coarseaggregate  fineaggregate          age        csMPa  \n",
       "count      1030.000000    1030.000000  1030.000000  1030.000000  \n",
       "mean        972.918932     773.580485    45.662136    35.817961  \n",
       "std          77.753954      80.175980    63.169912    16.705742  \n",
       "min         801.000000     594.000000     1.000000     2.330000  \n",
       "25%         932.000000     730.950000     7.000000    23.710000  \n",
       "50%         968.000000     779.500000    28.000000    34.445000  \n",
       "75%        1029.400000     824.000000    56.000000    46.135000  \n",
       "max        1145.000000     992.600000   365.000000    82.600000  "
      ]
     },
     "execution_count": 18,
     "metadata": {},
     "output_type": "execute_result"
    }
   ],
   "source": [
    "#Perform Univariate analysis\n",
    "#Calculate mean, median, std dev, and quartiles of numerical data\n",
    "df.describe()"
   ]
  },
  {
   "cell_type": "code",
   "execution_count": 19,
   "id": "f0e76856",
   "metadata": {},
   "outputs": [
    {
     "data": {
      "text/plain": [
       "cement              272.900\n",
       "slag                135.700\n",
       "flyash              121.400\n",
       "water               185.000\n",
       "superplasticizer      9.400\n",
       "coarseaggregate     968.000\n",
       "fineaggregate       779.500\n",
       "age                  28.000\n",
       "csMPa                34.445\n",
       "dtype: float64"
      ]
     },
     "execution_count": 19,
     "metadata": {},
     "output_type": "execute_result"
    }
   ],
   "source": [
    "df.median()"
   ]
  },
  {
   "cell_type": "code",
   "execution_count": 20,
   "id": "f0339462",
   "metadata": {},
   "outputs": [
    {
     "data": {
      "text/plain": [
       "array([[<AxesSubplot:title={'center':'cement'}>,\n",
       "        <AxesSubplot:title={'center':'slag'}>,\n",
       "        <AxesSubplot:title={'center':'water'}>],\n",
       "       [<AxesSubplot:title={'center':'superplasticizer'}>,\n",
       "        <AxesSubplot:title={'center':'coarseaggregate'}>,\n",
       "        <AxesSubplot:title={'center':'fineaggregate'}>],\n",
       "       [<AxesSubplot:title={'center':'csMPa'}>, <AxesSubplot:>,\n",
       "        <AxesSubplot:>]], dtype=object)"
      ]
     },
     "execution_count": 20,
     "metadata": {},
     "output_type": "execute_result"
    },
    {
     "data": {
      "image/png": "[encoded data removed]",
      "text/plain": [
       "<Figure size 432x288 with 9 Axes>"
      ]
     },
     "metadata": {
      "needs_background": "light"
     },
     "output_type": "display_data"
    }
   ],
   "source": [
    "#Check the distribution of numerical variables and comment on it\n",
    "columns = ['cement', 'slag', 'water', 'superplasticizer','coarseaggregate','fineaggregate','csMPa']\n",
    "df[columns].hist()"
   ]
  },
  {
   "cell_type": "code",
   "execution_count": 21,
   "id": "e4a645f5",
   "metadata": {},
   "outputs": [
    {
     "data": {
      "text/plain": [
       "<seaborn.axisgrid.PairGrid at 0x20e925bbb20>"
      ]
     },
     "execution_count": 21,
     "metadata": {},
     "output_type": "execute_result"
    },
    {
     "data": {
      "image/png": "[encoded data removed]",
      "text/plain": [
       "<Figure size 360x360 with 6 Axes>"
      ]
     },
     "metadata": {
      "needs_background": "light"
     },
     "output_type": "display_data"
    }
   ],
   "source": [
    "#Perform Bivariate analysis\n",
    "#Plot pair plots\n",
    "sb.pairplot(df[['cement','slag']])"
   ]
  },
  {
   "cell_type": "code",
   "execution_count": 22,
   "id": "66b7c12d",
   "metadata": {},
   "outputs": [
    {
     "data": {
      "text/plain": [
       "<AxesSubplot:xlabel='cement', ylabel='slag'>"
      ]
     },
     "execution_count": 22,
     "metadata": {},
     "output_type": "execute_result"
    },
    {
     "data": {
      "image/png": "[encoded data removed]",
      "text/plain": [
       "<Figure size 432x288 with 1 Axes>"
      ]
     },
     "metadata": {
      "needs_background": "light"
     },
     "output_type": "display_data"
    }
   ],
   "source": [
    "sb.regplot(x=\"cement\", y=\"slag\", data=df)"
   ]
  },
  {
   "cell_type": "code",
   "execution_count": 23,
   "id": "e111b8cd",
   "metadata": {},
   "outputs": [
    {
     "name": "stdout",
     "output_type": "stream",
     "text": [
      "Approach 1: The p-value approach to hypothesis testing in the decision rule\n",
      "chisquare-score is: 11462.206895002948  and p value is: 0.0005460933550068825\n",
      "Null Hypothesis is rejected.\n",
      "\n",
      "--------------------------------------------------------------------------------------\n",
      "Approach 2: The critical value approach to hypothesis testing in the decision rule\n",
      "chisquare-score is: 11462.206895002948  and critical value is: 11216.79223246852\n",
      "Null Hypothesis is rejected.\n"
     ]
    }
   ],
   "source": [
    "#Perform Chi-square analysis to check whether there is a relationship between\n",
    "#age and csMPa\n",
    "# create contingency table\n",
    "data_crosstab = pd.crosstab(df['age'],\n",
    "                            df['csMPa'],\n",
    "                           margins=True, margins_name=\"Total\")\n",
    "\n",
    "# significance level\n",
    "alpha = 0.05\n",
    "\n",
    "# Calcualtion of Chisquare\n",
    "chi_square = 0\n",
    "rows = df['age'].unique()\n",
    "columns = df['csMPa'].unique()\n",
    "for i in columns:\n",
    "    for j in rows:\n",
    "        O = data_crosstab[i][j]\n",
    "        E = data_crosstab[i]['Total'] * data_crosstab['Total'][j] / data_crosstab['Total']['Total']\n",
    "        chi_square += (O-E)**2/E\n",
    "\n",
    "# The p-value approach\n",
    "print(\"Approach 1: The p-value approach to hypothesis testing in the decision rule\")\n",
    "p_value = 1 - stats.chi2.cdf(chi_square, (len(rows)-1)*(len(columns)-1))\n",
    "conclusion = \"Failed to reject the null hypothesis.\"\n",
    "if p_value <= alpha:\n",
    "    conclusion = \"Null Hypothesis is rejected.\"\n",
    "        \n",
    "print(\"chisquare-score is:\", chi_square, \" and p value is:\", p_value)\n",
    "print(conclusion)\n",
    "    \n",
    "# The critical value approach\n",
    "print(\"\\n--------------------------------------------------------------------------------------\")\n",
    "print(\"Approach 2: The critical value approach to hypothesis testing in the decision rule\")\n",
    "critical_value = stats.chi2.ppf(1-alpha, (len(rows)-1)*(len(columns)-1))\n",
    "conclusion = \"Failed to reject the null hypothesis.\"\n",
    "if chi_square > critical_value:\n",
    "    conclusion = \"Null Hypothesis is rejected.\"\n",
    "        \n",
    "print(\"chisquare-score is:\", chi_square, \" and critical value is:\", critical_value)\n",
    "print(conclusion)"
   ]
  },
  {
   "cell_type": "code",
   "execution_count": 24,
   "id": "d14bda99",
   "metadata": {},
   "outputs": [
    {
     "data": {
      "text/plain": [
       "<AxesSubplot:>"
      ]
     },
     "execution_count": 24,
     "metadata": {},
     "output_type": "execute_result"
    },
    {
     "data": {
      "image/png": "[encoded data removed]",
      "text/plain": [
       "<Figure size 432x288 with 2 Axes>"
      ]
     },
     "metadata": {
      "needs_background": "light"
     },
     "output_type": "display_data"
    }
   ],
   "source": [
    "#Calculate correlation, and plot their heatmap\n",
    "sb.heatmap(df.corr(),annot=True)"
   ]
  },
  {
   "cell_type": "markdown",
   "id": "ddd2f40c",
   "metadata": {},
   "source": [
    "# outlier analysis "
   ]
  },
  {
   "cell_type": "code",
   "execution_count": 211,
   "id": "a8697f1a",
   "metadata": {},
   "outputs": [],
   "source": [
    "col=['cement','slag','flyash','superplasticizer','coarseaggregate']"
   ]
  },
  {
   "cell_type": "code",
   "execution_count": 212,
   "id": "a92a4467",
   "metadata": {},
   "outputs": [
    {
     "data": {
      "image/png": "[encoded data removed]",
      "text/plain": [
       "<Figure size 432x288 with 1 Axes>"
      ]
     },
     "metadata": {
      "needs_background": "light"
     },
     "output_type": "display_data"
    },
    {
     "data": {
      "image/png": "[encoded data removed]",
      "text/plain": [
       "<Figure size 432x288 with 1 Axes>"
      ]
     },
     "metadata": {
      "needs_background": "light"
     },
     "output_type": "display_data"
    },
    {
     "data": {
      "image/png": "[encoded data removed]",
      "text/plain": [
       "<Figure size 432x288 with 1 Axes>"
      ]
     },
     "metadata": {
      "needs_background": "light"
     },
     "output_type": "display_data"
    },
    {
     "data": {
      "image/png": "[encoded data removed]",
      "text/plain": [
       "<Figure size 432x288 with 1 Axes>"
      ]
     },
     "metadata": {
      "needs_background": "light"
     },
     "output_type": "display_data"
    },
    {
     "data": {
      "image/png": "[encoded data removed]",
      "text/plain": [
       "<Figure size 432x288 with 1 Axes>"
      ]
     },
     "metadata": {
      "needs_background": "light"
     },
     "output_type": "display_data"
    }
   ],
   "source": [
    "for c in col:\n",
    "    percentile25=df[c].quantile(0.25)\n",
    "    percentile75=df[c].quantile(0.75)\n",
    "    iqr=percentile75-percentile25\n",
    "    upper_limit=percentile75+(1.5*iqr)\n",
    "    lower_limit=percentile25-(1.5*iqr)\n",
    "    df=df[df[c]<upper_limit]\n",
    "    df=df[df[c]>lower_limit]\n",
    "    plt.figure()\n",
    "    sb.boxplot(y=c,data=df)"
   ]
  },
  {
   "cell_type": "code",
   "execution_count": 25,
   "id": "1d51666d",
   "metadata": {},
   "outputs": [],
   "source": [
    "X=df.iloc[:,:-1].values\n",
    "Y=df.iloc[:,-1].values"
   ]
  },
  {
   "cell_type": "markdown",
   "id": "592a7093",
   "metadata": {},
   "source": [
    "# Linear regression"
   ]
  },
  {
   "cell_type": "code",
   "execution_count": 26,
   "id": "a4a2f0b1",
   "metadata": {},
   "outputs": [],
   "source": [
    "from sklearn.model_selection import train_test_split\n",
    "X_train,X_test,Y_train,Y_test=train_test_split(X,Y,test_size=0.2,random_state=4)"
   ]
  },
  {
   "cell_type": "code",
   "execution_count": 27,
   "id": "5f71f8e6",
   "metadata": {},
   "outputs": [],
   "source": [
    "from sklearn.preprocessing import StandardScaler\n",
    "sc= StandardScaler()\n",
    "X_train=sc.fit_transform(X_train)\n",
    "X_test=sc.fit_transform(X_test)"
   ]
  },
  {
   "cell_type": "code",
   "execution_count": 28,
   "id": "88bceb0e",
   "metadata": {},
   "outputs": [
    {
     "data": {
      "text/plain": [
       "LinearRegression()"
      ]
     },
     "execution_count": 28,
     "metadata": {},
     "output_type": "execute_result"
    }
   ],
   "source": [
    "from sklearn.linear_model import LinearRegression\n",
    "reg=LinearRegression()\n",
    "reg.fit(X_train,Y_train)\n"
   ]
  },
  {
   "cell_type": "code",
   "execution_count": 29,
   "id": "9768b48f",
   "metadata": {},
   "outputs": [
    {
     "data": {
      "text/plain": [
       "array([  5.5341097 ,   1.67275898,  -2.06253727, -11.99380667,\n",
       "        -2.42747015,  -6.19624235,  -6.56763214,   6.96715059])"
      ]
     },
     "execution_count": 29,
     "metadata": {},
     "output_type": "execute_result"
    }
   ],
   "source": [
    "reg.coef_"
   ]
  },
  {
   "cell_type": "code",
   "execution_count": 30,
   "id": "82910c6f",
   "metadata": {},
   "outputs": [
    {
     "data": {
      "text/plain": [
       "35.95850728155361"
      ]
     },
     "execution_count": 30,
     "metadata": {},
     "output_type": "execute_result"
    }
   ],
   "source": [
    "reg.intercept_"
   ]
  },
  {
   "cell_type": "code",
   "execution_count": 31,
   "id": "f63f6dd9",
   "metadata": {},
   "outputs": [],
   "source": [
    "Y_pred=reg.predict(X_test)\n"
   ]
  },
  {
   "cell_type": "code",
   "execution_count": 32,
   "id": "46ccddc9",
   "metadata": {},
   "outputs": [
    {
     "data": {
      "text/plain": [
       "142.00411435591468"
      ]
     },
     "execution_count": 32,
     "metadata": {},
     "output_type": "execute_result"
    }
   ],
   "source": [
    "from sklearn import metrics\n",
    "metrics.mean_squared_error(Y_test,Y_pred)"
   ]
  },
  {
   "cell_type": "code",
   "execution_count": 33,
   "id": "2a7906fb",
   "metadata": {},
   "outputs": [
    {
     "data": {
      "text/plain": [
       "11.91654792110176"
      ]
     },
     "execution_count": 33,
     "metadata": {},
     "output_type": "execute_result"
    }
   ],
   "source": [
    "import numpy as np\n",
    "np.sqrt(metrics.mean_squared_error(Y_test,Y_pred))"
   ]
  },
  {
   "cell_type": "code",
   "execution_count": 34,
   "id": "417735e5",
   "metadata": {},
   "outputs": [
    {
     "data": {
      "text/plain": [
       "0.5306732357817683"
      ]
     },
     "execution_count": 34,
     "metadata": {},
     "output_type": "execute_result"
    }
   ],
   "source": [
    "metrics.r2_score(Y_test,Y_pred)"
   ]
  },
  {
   "cell_type": "markdown",
   "id": "e6cb701e",
   "metadata": {},
   "source": [
    "# Decision tree"
   ]
  },
  {
   "cell_type": "code",
   "execution_count": 35,
   "id": "37ffc416",
   "metadata": {},
   "outputs": [],
   "source": [
    "X=df.drop(['csMPa'],axis=1).values\n",
    "Y=df['csMPa'].values"
   ]
  },
  {
   "cell_type": "code",
   "execution_count": 39,
   "id": "19d43886",
   "metadata": {},
   "outputs": [
    {
     "name": "stdout",
     "output_type": "stream",
     "text": [
      "[841 781 537 ... 219 386 380]\n"
     ]
    }
   ],
   "source": [
    "from sklearn import preprocessing\n",
    "from sklearn import utils\n",
    "\n",
    "#convert y values to categorical values\n",
    "lab = preprocessing.LabelEncoder()\n",
    "Y_transformed= lab.fit_transform(Y)\n",
    "\n",
    "#view transformed values\n",
    "print(Y_transformed)"
   ]
  },
  {
   "cell_type": "code",
   "execution_count": 40,
   "id": "4d9105b5",
   "metadata": {},
   "outputs": [],
   "source": [
    "from sklearn.model_selection import train_test_split\n",
    "X_train, X_test, Y_train, Y_test=train_test_split(X,Y,test_size=0.3, random_state=42)"
   ]
  },
  {
   "cell_type": "code",
   "execution_count": 41,
   "id": "bb0d9411",
   "metadata": {},
   "outputs": [],
   "source": [
    "from sklearn.preprocessing import StandardScaler\n",
    "sc= StandardScaler()\n",
    "X_train=sc.fit_transform(X_train)\n",
    "X_test=sc.fit_transform(X_test)"
   ]
  },
  {
   "cell_type": "code",
   "execution_count": 42,
   "id": "8eab5a90",
   "metadata": {},
   "outputs": [],
   "source": [
    "from sklearn.tree import DecisionTreeClassifier\n",
    "dtc=DecisionTreeClassifier()"
   ]
  },
  {
   "cell_type": "code",
   "execution_count": 43,
   "id": "87b4793a",
   "metadata": {},
   "outputs": [
    {
     "data": {
      "text/plain": [
       "DecisionTreeClassifier()"
      ]
     },
     "execution_count": 43,
     "metadata": {},
     "output_type": "execute_result"
    }
   ],
   "source": [
    "dtc.fit(X_train, Y_train)"
   ]
  },
  {
   "cell_type": "code",
   "execution_count": 44,
   "id": "86a6b29b",
   "metadata": {},
   "outputs": [],
   "source": [
    "Y_pred=dtc.predict(X_test)"
   ]
  },
  {
   "cell_type": "code",
   "execution_count": 45,
   "id": "5f98823b",
   "metadata": {},
   "outputs": [
    {
     "data": {
      "text/plain": [
       "array([[0, 0, 0, ..., 0, 0, 0],\n",
       "       [0, 0, 0, ..., 0, 0, 0],\n",
       "       [0, 0, 0, ..., 0, 0, 0],\n",
       "       ...,\n",
       "       [0, 0, 0, ..., 0, 0, 0],\n",
       "       [0, 0, 0, ..., 0, 0, 0],\n",
       "       [0, 0, 0, ..., 0, 0, 0]], dtype=int64)"
      ]
     },
     "execution_count": 45,
     "metadata": {},
     "output_type": "execute_result"
    }
   ],
   "source": [
    "from sklearn.metrics import confusion_matrix\n",
    "confusion_matrix(Y_test,Y_pred)"
   ]
  },
  {
   "cell_type": "code",
   "execution_count": 46,
   "id": "11943135",
   "metadata": {},
   "outputs": [
    {
     "data": {
      "text/plain": [
       "0.04854368932038835"
      ]
     },
     "execution_count": 46,
     "metadata": {},
     "output_type": "execute_result"
    }
   ],
   "source": [
    "from sklearn.metrics import accuracy_score\n",
    "accuracy_score(Y_test, Y_pred)"
   ]
  },
  {
   "cell_type": "code",
   "execution_count": 47,
   "id": "8a1c7603",
   "metadata": {},
   "outputs": [
    {
     "name": "stdout",
     "output_type": "stream",
     "text": [
      "              precision    recall  f1-score   support\n",
      "\n",
      "           2       0.00      0.00      0.00         1\n",
      "           4       0.00      0.00      0.00         1\n",
      "           7       0.00      0.00      0.00         1\n",
      "          10       0.00      0.00      0.00         1\n",
      "          11       0.00      0.00      0.00         1\n",
      "          13       0.00      0.00      0.00         1\n",
      "          14       0.00      0.00      0.00         1\n",
      "          15       0.00      0.00      0.00         0\n",
      "          16       0.00      0.00      0.00         0\n",
      "          20       0.00      0.00      0.00         1\n",
      "          22       0.00      0.00      0.00         1\n",
      "          24       0.00      0.00      0.00         0\n",
      "          25       0.00      0.00      0.00         0\n",
      "          28       0.00      0.00      0.00         1\n",
      "          29       0.00      0.00      0.00         0\n",
      "          31       0.00      0.00      0.00         1\n",
      "          36       0.00      0.00      0.00         0\n",
      "          38       0.00      0.00      0.00         1\n",
      "          40       0.00      0.00      0.00         1\n",
      "          41       0.00      0.00      0.00         1\n",
      "          44       0.00      0.00      0.00         0\n",
      "          45       0.50      1.00      0.67         1\n",
      "          46       0.00      0.00      0.00         1\n",
      "          49       0.00      0.00      0.00         1\n",
      "          52       0.00      0.00      0.00         1\n",
      "          53       0.00      0.00      0.00         1\n",
      "          54       0.00      0.00      0.00         0\n",
      "          55       0.00      0.00      0.00         1\n",
      "          56       0.00      0.00      0.00         1\n",
      "          58       0.00      0.00      0.00         0\n",
      "          60       0.00      0.00      0.00         0\n",
      "          61       0.00      0.00      0.00         1\n",
      "          62       0.00      0.00      0.00         1\n",
      "          63       0.00      0.00      0.00         1\n",
      "          65       0.00      0.00      0.00         1\n",
      "          66       0.00      0.00      0.00         1\n",
      "          68       0.00      0.00      0.00         0\n",
      "          76       0.25      1.00      0.40         1\n",
      "          77       0.00      0.00      0.00         1\n",
      "          78       1.00      1.00      1.00         1\n",
      "          79       0.00      0.00      0.00         1\n",
      "          83       0.00      0.00      0.00         1\n",
      "          84       0.00      0.00      0.00         1\n",
      "          87       0.00      0.00      0.00         1\n",
      "          88       0.00      0.00      0.00         1\n",
      "          89       0.00      0.00      0.00         1\n",
      "          91       0.00      0.00      0.00         0\n",
      "          96       0.00      0.00      0.00         1\n",
      "          97       0.00      0.00      0.00         0\n",
      "          98       0.00      0.00      0.00         1\n",
      "         100       0.00      0.00      0.00         1\n",
      "         102       0.00      0.00      0.00         1\n",
      "         105       0.00      0.00      0.00         1\n",
      "         107       0.00      0.00      0.00         0\n",
      "         108       0.00      0.00      0.00         2\n",
      "         110       0.00      0.00      0.00         1\n",
      "         112       0.00      0.00      0.00         0\n",
      "         113       0.00      0.00      0.00         1\n",
      "         114       0.00      0.00      0.00         0\n",
      "         116       0.00      0.00      0.00         1\n",
      "         120       0.00      0.00      0.00         0\n",
      "         126       0.00      0.00      0.00         1\n",
      "         127       0.00      0.00      0.00         0\n",
      "         128       0.00      0.00      0.00         1\n",
      "         131       0.00      0.00      0.00         0\n",
      "         132       0.00      0.00      0.00         1\n",
      "         134       0.00      0.00      0.00         0\n",
      "         137       0.50      1.00      0.67         1\n",
      "         138       0.00      0.00      0.00         1\n",
      "         139       0.00      0.00      0.00         0\n",
      "         140       0.00      0.00      0.00         1\n",
      "         142       0.00      0.00      0.00         1\n",
      "         143       0.00      0.00      0.00         1\n",
      "         144       0.00      0.00      0.00         1\n",
      "         147       0.00      0.00      0.00         1\n",
      "         148       0.00      0.00      0.00         2\n",
      "         149       0.00      0.00      0.00         0\n",
      "         151       0.00      0.00      0.00         1\n",
      "         153       0.00      0.00      0.00         1\n",
      "         156       0.00      0.00      0.00         1\n",
      "         157       0.00      0.00      0.00         1\n",
      "         158       0.00      0.00      0.00         1\n",
      "         159       0.00      0.00      0.00         0\n",
      "         160       0.00      0.00      0.00         0\n",
      "         163       0.00      0.00      0.00         2\n",
      "         164       0.00      0.00      0.00         1\n",
      "         165       1.00      1.00      1.00         1\n",
      "         166       0.00      0.00      0.00         1\n",
      "         170       0.00      0.00      0.00         1\n",
      "         174       0.00      0.00      0.00         0\n",
      "         175       0.00      0.00      0.00         1\n",
      "         177       0.00      0.00      0.00         0\n",
      "         181       0.00      0.00      0.00         0\n",
      "         183       0.00      0.00      0.00         1\n",
      "         184       0.00      0.00      0.00         1\n",
      "         187       0.00      0.00      0.00         1\n",
      "         190       0.00      0.00      0.00         1\n",
      "         191       0.00      0.00      0.00         1\n",
      "         192       0.00      0.00      0.00         1\n",
      "         198       0.00      0.00      0.00         1\n",
      "         199       0.00      0.00      0.00         0\n",
      "         200       0.00      0.00      0.00         1\n",
      "         201       0.00      0.00      0.00         1\n",
      "         202       0.00      0.00      0.00         0\n",
      "         203       0.00      0.00      0.00         1\n",
      "         207       0.00      0.00      0.00         0\n",
      "         208       0.00      0.00      0.00         1\n",
      "         209       0.00      0.00      0.00         1\n",
      "         214       0.00      0.00      0.00         1\n",
      "         215       0.00      0.00      0.00         0\n",
      "         218       0.00      0.00      0.00         1\n",
      "         222       0.00      0.00      0.00         1\n",
      "         223       0.00      0.00      0.00         2\n",
      "         226       0.00      0.00      0.00         1\n",
      "         227       0.00      0.00      0.00         1\n",
      "         229       0.00      0.00      0.00         1\n",
      "         231       0.00      0.00      0.00         0\n",
      "         232       0.00      0.00      0.00         1\n",
      "         237       0.00      0.00      0.00         1\n",
      "         239       0.00      0.00      0.00         0\n",
      "         242       0.00      0.00      0.00         0\n",
      "         244       0.00      0.00      0.00         1\n",
      "         245       0.00      0.00      0.00         1\n",
      "         248       0.00      0.00      0.00         1\n",
      "         252       0.00      0.00      0.00         2\n",
      "         254       0.00      0.00      0.00         1\n",
      "         257       0.00      0.00      0.00         1\n",
      "         258       0.00      0.00      0.00         0\n",
      "         259       0.00      0.00      0.00         1\n",
      "         265       0.00      0.00      0.00         1\n",
      "         266       0.00      0.00      0.00         0\n",
      "         269       0.00      0.00      0.00         1\n",
      "         271       0.00      0.00      0.00         0\n",
      "         272       0.00      0.00      0.00         0\n",
      "         275       0.00      0.00      0.00         1\n",
      "         277       0.00      0.00      0.00         1\n",
      "         281       0.00      0.00      0.00         0\n",
      "         284       0.00      0.00      0.00         0\n",
      "         286       0.33      1.00      0.50         1\n",
      "         288       1.00      1.00      1.00         1\n",
      "         289       0.00      0.00      0.00         1\n",
      "         292       0.00      0.00      0.00         0\n",
      "         294       0.00      0.00      0.00         0\n",
      "         295       0.00      0.00      0.00         1\n",
      "         296       0.00      0.00      0.00         0\n",
      "         297       0.00      0.00      0.00         0\n",
      "         298       0.00      0.00      0.00         1\n",
      "         299       0.00      0.00      0.00         1\n",
      "         301       0.00      0.00      0.00         1\n",
      "         304       0.00      0.00      0.00         0\n",
      "         305       0.00      0.00      0.00         0\n",
      "         306       0.00      0.00      0.00         0\n",
      "         307       0.00      0.00      0.00         1\n",
      "         309       0.00      0.00      0.00         1\n",
      "         310       0.00      0.00      0.00         0\n",
      "         313       0.00      0.00      0.00         0\n",
      "         314       0.00      0.00      0.00         1\n",
      "         319       0.00      0.00      0.00         0\n",
      "         320       0.00      0.00      0.00         0\n",
      "         323       0.00      0.00      0.00         1\n",
      "         324       0.00      0.00      0.00         0\n",
      "         328       0.00      0.00      0.00         1\n",
      "         329       0.00      0.00      0.00         0\n",
      "         330       0.00      0.00      0.00         1\n",
      "         331       0.00      0.00      0.00         1\n",
      "         334       0.00      0.00      0.00         1\n",
      "         335       0.00      0.00      0.00         1\n",
      "         337       0.00      0.00      0.00         1\n",
      "         339       0.00      0.00      0.00         1\n",
      "         341       0.00      0.00      0.00         1\n",
      "         343       0.00      0.00      0.00         1\n",
      "         347       0.00      0.00      0.00         1\n",
      "         348       0.00      0.00      0.00         1\n",
      "         352       0.00      0.00      0.00         1\n",
      "         353       0.00      0.00      0.00         1\n",
      "         354       0.00      0.00      0.00         1\n",
      "         355       0.00      0.00      0.00         0\n",
      "         356       0.00      0.00      0.00         1\n",
      "         357       0.00      0.00      0.00         1\n",
      "         358       0.00      0.00      0.00         1\n",
      "         359       0.00      0.00      0.00         0\n",
      "         361       0.00      0.00      0.00         1\n",
      "         362       0.00      0.00      0.00         1\n",
      "         363       0.00      0.00      0.00         1\n",
      "         364       0.00      0.00      0.00         1\n",
      "         365       0.00      0.00      0.00         0\n",
      "         368       0.00      0.00      0.00         0\n",
      "         369       0.00      0.00      0.00         0\n",
      "         370       0.00      0.00      0.00         0\n",
      "         372       0.00      0.00      0.00         1\n",
      "         376       0.00      0.00      0.00         0\n",
      "         378       0.00      0.00      0.00         0\n",
      "         379       0.00      0.00      0.00         1\n",
      "         380       0.00      0.00      0.00         1\n",
      "         383       0.00      0.00      0.00         1\n",
      "         384       0.00      0.00      0.00         1\n",
      "         386       0.00      0.00      0.00         0\n",
      "         387       0.00      0.00      0.00         1\n",
      "         390       0.00      0.00      0.00         1\n",
      "         391       0.00      0.00      0.00         1\n",
      "         392       0.00      0.00      0.00         1\n",
      "         393       0.00      0.00      0.00         0\n",
      "         394       0.00      0.00      0.00         1\n",
      "         395       0.00      0.00      0.00         1\n",
      "         396       0.00      0.00      0.00         1\n",
      "         397       0.00      0.00      0.00         0\n",
      "         398       0.00      0.00      0.00         1\n",
      "         399       0.00      0.00      0.00         0\n",
      "         400       0.00      0.00      0.00         0\n",
      "         401       0.00      0.00      0.00         1\n",
      "         402       0.00      0.00      0.00         0\n",
      "         405       0.00      0.00      0.00         0\n",
      "         409       0.00      0.00      0.00         5\n",
      "         411       0.00      0.00      0.00         0\n",
      "         413       0.00      0.00      0.00         0\n",
      "         414       0.00      0.00      0.00         0\n",
      "         416       0.00      0.00      0.00         1\n",
      "         418       0.00      0.00      0.00         1\n",
      "         419       0.00      0.00      0.00         0\n",
      "         420       1.00      1.00      1.00         1\n",
      "         421       1.00      1.00      1.00         1\n",
      "         423       0.00      0.00      0.00         0\n",
      "         424       0.00      0.00      0.00         0\n",
      "         428       0.00      0.00      0.00         1\n",
      "         429       0.00      0.00      0.00         1\n",
      "         431       0.00      0.00      0.00         1\n",
      "         435       0.00      0.00      0.00         1\n",
      "         436       0.00      0.00      0.00         1\n",
      "         439       0.00      0.00      0.00         1\n",
      "         440       0.00      0.00      0.00         2\n",
      "         441       0.00      0.00      0.00         2\n",
      "         443       0.00      0.00      0.00         1\n",
      "         445       0.00      0.00      0.00         0\n",
      "         446       0.00      0.00      0.00         0\n",
      "         450       0.00      0.00      0.00         0\n",
      "         451       0.00      0.00      0.00         0\n",
      "         452       0.00      0.00      0.00         1\n",
      "         453       0.00      0.00      0.00         1\n",
      "         454       0.00      0.00      0.00         1\n",
      "         455       0.00      0.00      0.00         1\n",
      "         457       0.00      0.00      0.00         1\n",
      "         458       0.00      0.00      0.00         1\n",
      "         459       0.00      0.00      0.00         0\n",
      "         464       0.00      0.00      0.00         0\n",
      "         465       0.00      0.00      0.00         1\n",
      "         467       0.50      1.00      0.67         1\n",
      "         469       0.00      0.00      0.00         1\n",
      "         470       0.00      0.00      0.00         0\n",
      "         472       0.00      0.00      0.00         1\n",
      "         473       0.00      0.00      0.00         1\n",
      "         474       0.00      0.00      0.00         1\n",
      "         475       0.00      0.00      0.00         0\n",
      "         478       0.00      0.00      0.00         1\n",
      "         482       0.00      0.00      0.00         0\n",
      "         484       0.00      0.00      0.00         1\n",
      "         485       0.00      0.00      0.00         1\n",
      "         487       0.00      0.00      0.00         1\n",
      "         492       0.00      0.00      0.00         0\n",
      "         494       0.00      0.00      0.00         0\n",
      "         495       0.00      0.00      0.00         1\n",
      "         496       0.00      0.00      0.00         0\n",
      "         497       0.00      0.00      0.00         2\n",
      "         498       0.00      0.00      0.00         1\n",
      "         499       0.00      0.00      0.00         1\n",
      "         500       0.00      0.00      0.00         0\n",
      "         505       0.00      0.00      0.00         1\n",
      "         506       0.00      0.00      0.00         0\n",
      "         507       0.00      0.00      0.00         1\n",
      "         509       0.00      0.00      0.00         0\n",
      "         511       0.00      0.00      0.00         0\n",
      "         512       0.00      0.00      0.00         1\n",
      "         514       0.00      0.00      0.00         1\n",
      "         516       0.00      0.00      0.00         0\n",
      "         517       0.00      0.00      0.00         1\n",
      "         518       0.00      0.00      0.00         2\n",
      "         519       0.00      0.00      0.00         0\n",
      "         521       0.00      0.00      0.00         0\n",
      "         524       0.00      0.00      0.00         1\n",
      "         525       0.00      0.00      0.00         1\n",
      "         526       0.00      0.00      0.00         1\n",
      "         527       0.00      0.00      0.00         0\n",
      "         529       0.00      0.00      0.00         1\n",
      "         532       0.00      0.00      0.00         0\n",
      "         533       0.50      1.00      0.67         1\n",
      "         534       0.00      0.00      0.00         1\n",
      "         535       0.00      0.00      0.00         1\n",
      "         536       0.00      0.00      0.00         0\n",
      "         537       0.00      0.00      0.00         1\n",
      "         538       0.00      0.00      0.00         1\n",
      "         539       0.00      0.00      0.00         1\n",
      "         540       0.00      0.00      0.00         0\n",
      "         544       0.00      0.00      0.00         0\n",
      "         547       0.00      0.00      0.00         0\n",
      "         550       0.00      0.00      0.00         3\n",
      "         551       0.00      0.00      0.00         1\n",
      "         552       0.00      0.00      0.00         0\n",
      "         553       0.00      0.00      0.00         1\n",
      "         558       0.00      0.00      0.00         0\n",
      "         559       0.00      0.00      0.00         1\n",
      "         561       0.00      0.00      0.00         1\n",
      "         562       0.00      0.00      0.00         1\n",
      "         565       0.00      0.00      0.00         1\n",
      "         567       0.00      0.00      0.00         1\n",
      "         569       0.00      0.00      0.00         2\n",
      "         570       0.00      0.00      0.00         1\n",
      "         579       0.00      0.00      0.00         0\n",
      "         581       0.00      0.00      0.00         1\n",
      "         583       0.00      0.00      0.00         0\n",
      "         584       0.00      0.00      0.00         0\n",
      "         585       0.00      0.00      0.00         1\n",
      "         586       0.00      0.00      0.00         1\n",
      "         588       0.00      0.00      0.00         1\n",
      "         589       0.00      0.00      0.00         1\n",
      "         590       0.00      0.00      0.00         0\n",
      "         591       0.00      0.00      0.00         0\n",
      "         592       0.00      0.00      0.00         0\n",
      "         595       0.00      0.00      0.00         0\n",
      "         600       0.00      0.00      0.00         1\n",
      "         601       0.00      0.00      0.00         1\n",
      "         605       0.00      0.00      0.00         0\n",
      "         607       0.00      0.00      0.00         2\n",
      "         608       1.00      1.00      1.00         1\n",
      "         609       0.00      0.00      0.00         1\n",
      "         610       0.00      0.00      0.00         1\n",
      "         614       0.00      0.00      0.00         0\n",
      "         615       0.00      0.00      0.00         1\n",
      "         616       0.00      0.00      0.00         1\n",
      "         617       0.00      0.00      0.00         1\n",
      "         620       0.00      0.00      0.00         0\n",
      "         621       0.00      0.00      0.00         1\n",
      "         622       0.00      0.00      0.00         0\n",
      "         623       0.00      0.00      0.00         1\n",
      "         626       0.00      0.00      0.00         0\n",
      "         629       0.00      0.00      0.00         1\n",
      "         631       0.00      0.00      0.00         0\n",
      "         632       0.00      0.00      0.00         1\n",
      "         634       0.00      0.00      0.00         1\n",
      "         637       0.00      0.00      0.00         0\n",
      "         638       0.00      0.00      0.00         1\n",
      "         640       0.00      0.00      0.00         1\n",
      "         644       0.00      0.00      0.00         1\n",
      "         645       0.00      0.00      0.00         1\n",
      "         647       0.00      0.00      0.00         1\n",
      "         649       0.00      0.00      0.00         0\n",
      "         650       0.00      0.00      0.00         1\n",
      "         652       0.00      0.00      0.00         1\n",
      "         656       0.12      1.00      0.22         1\n",
      "         659       0.00      0.00      0.00         1\n",
      "         663       0.00      0.00      0.00         0\n",
      "         664       0.00      0.00      0.00         1\n",
      "         668       0.00      0.00      0.00         0\n",
      "         669       0.00      0.00      0.00         1\n",
      "         671       0.00      0.00      0.00         0\n",
      "         676       0.00      0.00      0.00         1\n",
      "         677       0.00      0.00      0.00         0\n",
      "         679       0.00      0.00      0.00         1\n",
      "         680       0.00      0.00      0.00         1\n",
      "         682       0.00      0.00      0.00         0\n",
      "         683       0.00      0.00      0.00         1\n",
      "         684       0.00      0.00      0.00         1\n",
      "         685       0.00      0.00      0.00         1\n",
      "         688       0.00      0.00      0.00         0\n",
      "         689       0.00      0.00      0.00         1\n",
      "         690       0.00      0.00      0.00         1\n",
      "         691       0.00      0.00      0.00         1\n",
      "         694       0.00      0.00      0.00         1\n",
      "         699       0.00      0.00      0.00         1\n",
      "         700       0.00      0.00      0.00         1\n",
      "         702       0.00      0.00      0.00         1\n",
      "         705       0.00      0.00      0.00         2\n",
      "         709       0.00      0.00      0.00         0\n",
      "         710       0.00      0.00      0.00         1\n",
      "         713       0.00      0.00      0.00         0\n",
      "         716       0.00      0.00      0.00         1\n",
      "         719       0.00      0.00      0.00         0\n",
      "         720       0.00      0.00      0.00         0\n",
      "         721       0.00      0.00      0.00         1\n",
      "         722       0.00      0.00      0.00         1\n",
      "         723       0.00      0.00      0.00         0\n",
      "         725       0.00      0.00      0.00         1\n",
      "         728       0.00      0.00      0.00         0\n",
      "         729       0.00      0.00      0.00         2\n",
      "         733       0.00      0.00      0.00         1\n",
      "         734       0.00      0.00      0.00         2\n",
      "         736       0.00      0.00      0.00         0\n",
      "         737       0.00      0.00      0.00         0\n",
      "         738       0.00      0.00      0.00         1\n",
      "         742       0.00      0.00      0.00         1\n",
      "         743       0.00      0.00      0.00         0\n",
      "         745       0.00      0.00      0.00         1\n",
      "         747       0.00      0.00      0.00         1\n",
      "         748       0.00      0.00      0.00         0\n",
      "         751       0.00      0.00      0.00         1\n",
      "         752       0.00      0.00      0.00         0\n",
      "         753       0.00      0.00      0.00         0\n",
      "         755       0.00      0.00      0.00         0\n",
      "         761       0.00      0.00      0.00         0\n",
      "         762       0.00      0.00      0.00         0\n",
      "         764       0.00      0.00      0.00         0\n",
      "         766       0.00      0.00      0.00         1\n",
      "         767       0.00      0.00      0.00         0\n",
      "         771       0.50      1.00      0.67         1\n",
      "         772       0.00      0.00      0.00         1\n",
      "         773       0.00      0.00      0.00         1\n",
      "         774       0.00      0.00      0.00         1\n",
      "         779       0.00      0.00      0.00         0\n",
      "         780       0.00      0.00      0.00         1\n",
      "         783       0.00      0.00      0.00         1\n",
      "         784       0.00      0.00      0.00         1\n",
      "         786       0.00      0.00      0.00         1\n",
      "         787       0.00      0.00      0.00         0\n",
      "         788       0.00      0.00      0.00         1\n",
      "         789       0.00      0.00      0.00         0\n",
      "         790       0.00      0.00      0.00         1\n",
      "         791       0.33      1.00      0.50         1\n",
      "         792       0.00      0.00      0.00         0\n",
      "         793       0.00      0.00      0.00         0\n",
      "         795       0.00      0.00      0.00         1\n",
      "         796       0.00      0.00      0.00         0\n",
      "         797       0.00      0.00      0.00         0\n",
      "         798       0.00      0.00      0.00         1\n",
      "         800       0.00      0.00      0.00         1\n",
      "         801       0.00      0.00      0.00         1\n",
      "         802       0.00      0.00      0.00         1\n",
      "         805       0.00      0.00      0.00         0\n",
      "         814       0.00      0.00      0.00         0\n",
      "         817       0.00      0.00      0.00         1\n",
      "         818       0.00      0.00      0.00         1\n",
      "         819       0.00      0.00      0.00         1\n",
      "         820       0.00      0.00      0.00         1\n",
      "         821       0.00      0.00      0.00         1\n",
      "         823       0.00      0.00      0.00         0\n",
      "         827       0.00      0.00      0.00         0\n",
      "         830       0.00      0.00      0.00         1\n",
      "         831       0.00      0.00      0.00         1\n",
      "         832       0.00      0.00      0.00         0\n",
      "         834       0.00      0.00      0.00         1\n",
      "         835       0.00      0.00      0.00         1\n",
      "         836       0.00      0.00      0.00         1\n",
      "         840       0.00      0.00      0.00         0\n",
      "         843       0.00      0.00      0.00         1\n",
      "\n",
      "    accuracy                           0.05       309\n",
      "   macro avg       0.02      0.03      0.02       309\n",
      "weighted avg       0.03      0.05      0.04       309\n",
      "\n"
     ]
    },
    {
     "name": "stderr",
     "output_type": "stream",
     "text": [
      "C:\\anaconda\\lib\\site-packages\\sklearn\\metrics\\_classification.py:1318: UndefinedMetricWarning: Precision and F-score are ill-defined and being set to 0.0 in labels with no predicted samples. Use `zero_division` parameter to control this behavior.\n",
      "  _warn_prf(average, modifier, msg_start, len(result))\n",
      "C:\\anaconda\\lib\\site-packages\\sklearn\\metrics\\_classification.py:1318: UndefinedMetricWarning: Recall and F-score are ill-defined and being set to 0.0 in labels with no true samples. Use `zero_division` parameter to control this behavior.\n",
      "  _warn_prf(average, modifier, msg_start, len(result))\n",
      "C:\\anaconda\\lib\\site-packages\\sklearn\\metrics\\_classification.py:1318: UndefinedMetricWarning: Precision and F-score are ill-defined and being set to 0.0 in labels with no predicted samples. Use `zero_division` parameter to control this behavior.\n",
      "  _warn_prf(average, modifier, msg_start, len(result))\n",
      "C:\\anaconda\\lib\\site-packages\\sklearn\\metrics\\_classification.py:1318: UndefinedMetricWarning: Recall and F-score are ill-defined and being set to 0.0 in labels with no true samples. Use `zero_division` parameter to control this behavior.\n",
      "  _warn_prf(average, modifier, msg_start, len(result))\n",
      "C:\\anaconda\\lib\\site-packages\\sklearn\\metrics\\_classification.py:1318: UndefinedMetricWarning: Precision and F-score are ill-defined and being set to 0.0 in labels with no predicted samples. Use `zero_division` parameter to control this behavior.\n",
      "  _warn_prf(average, modifier, msg_start, len(result))\n",
      "C:\\anaconda\\lib\\site-packages\\sklearn\\metrics\\_classification.py:1318: UndefinedMetricWarning: Recall and F-score are ill-defined and being set to 0.0 in labels with no true samples. Use `zero_division` parameter to control this behavior.\n",
      "  _warn_prf(average, modifier, msg_start, len(result))\n"
     ]
    }
   ],
   "source": [
    "from sklearn.metrics import classification_report\n",
    "print(classification_report(Y_test, Y_pred))"
   ]
  },
  {
   "cell_type": "code",
   "execution_count": 48,
   "id": "65801a2f",
   "metadata": {},
   "outputs": [
    {
     "data": {
      "text/plain": [
       "0.04854368932038835"
      ]
     },
     "execution_count": 48,
     "metadata": {},
     "output_type": "execute_result"
    }
   ],
   "source": [
    "from sklearn.metrics import accuracy_score\n",
    "accuracy_score(Y_test, Y_pred)"
   ]
  },
  {
   "cell_type": "code",
   "execution_count": 49,
   "id": "8bbf3e2a",
   "metadata": {},
   "outputs": [
    {
     "name": "stdout",
     "output_type": "stream",
     "text": [
      "              precision    recall  f1-score   support\n",
      "\n",
      "           2       0.00      0.00      0.00         1\n",
      "           4       0.00      0.00      0.00         1\n",
      "           7       0.00      0.00      0.00         1\n",
      "          10       0.00      0.00      0.00         1\n",
      "          11       0.00      0.00      0.00         1\n",
      "          13       0.00      0.00      0.00         1\n",
      "          14       0.00      0.00      0.00         1\n",
      "          15       0.00      0.00      0.00         0\n",
      "          16       0.00      0.00      0.00         0\n",
      "          20       0.00      0.00      0.00         1\n",
      "          22       0.00      0.00      0.00         1\n",
      "          24       0.00      0.00      0.00         0\n",
      "          25       0.00      0.00      0.00         0\n",
      "          28       0.00      0.00      0.00         1\n",
      "          29       0.00      0.00      0.00         0\n",
      "          31       0.00      0.00      0.00         1\n",
      "          36       0.00      0.00      0.00         0\n",
      "          38       0.00      0.00      0.00         1\n",
      "          40       0.00      0.00      0.00         1\n",
      "          41       0.00      0.00      0.00         1\n",
      "          44       0.00      0.00      0.00         0\n",
      "          45       0.50      1.00      0.67         1\n",
      "          46       0.00      0.00      0.00         1\n",
      "          49       0.00      0.00      0.00         1\n",
      "          52       0.00      0.00      0.00         1\n",
      "          53       0.00      0.00      0.00         1\n",
      "          54       0.00      0.00      0.00         0\n",
      "          55       0.00      0.00      0.00         1\n",
      "          56       0.00      0.00      0.00         1\n",
      "          58       0.00      0.00      0.00         0\n",
      "          60       0.00      0.00      0.00         0\n",
      "          61       0.00      0.00      0.00         1\n",
      "          62       0.00      0.00      0.00         1\n",
      "          63       0.00      0.00      0.00         1\n",
      "          65       0.00      0.00      0.00         1\n",
      "          66       0.00      0.00      0.00         1\n",
      "          68       0.00      0.00      0.00         0\n",
      "          76       0.25      1.00      0.40         1\n",
      "          77       0.00      0.00      0.00         1\n",
      "          78       1.00      1.00      1.00         1\n",
      "          79       0.00      0.00      0.00         1\n",
      "          83       0.00      0.00      0.00         1\n",
      "          84       0.00      0.00      0.00         1\n",
      "          87       0.00      0.00      0.00         1\n",
      "          88       0.00      0.00      0.00         1\n",
      "          89       0.00      0.00      0.00         1\n",
      "          91       0.00      0.00      0.00         0\n",
      "          96       0.00      0.00      0.00         1\n",
      "          97       0.00      0.00      0.00         0\n",
      "          98       0.00      0.00      0.00         1\n",
      "         100       0.00      0.00      0.00         1\n",
      "         102       0.00      0.00      0.00         1\n",
      "         105       0.00      0.00      0.00         1\n",
      "         107       0.00      0.00      0.00         0\n",
      "         108       0.00      0.00      0.00         2\n",
      "         110       0.00      0.00      0.00         1\n",
      "         112       0.00      0.00      0.00         0\n",
      "         113       0.00      0.00      0.00         1\n",
      "         114       0.00      0.00      0.00         0\n",
      "         116       0.00      0.00      0.00         1\n",
      "         120       0.00      0.00      0.00         0\n",
      "         126       0.00      0.00      0.00         1\n",
      "         127       0.00      0.00      0.00         0\n",
      "         128       0.00      0.00      0.00         1\n",
      "         131       0.00      0.00      0.00         0\n",
      "         132       0.00      0.00      0.00         1\n",
      "         134       0.00      0.00      0.00         0\n",
      "         137       0.50      1.00      0.67         1\n",
      "         138       0.00      0.00      0.00         1\n",
      "         139       0.00      0.00      0.00         0\n",
      "         140       0.00      0.00      0.00         1\n",
      "         142       0.00      0.00      0.00         1\n",
      "         143       0.00      0.00      0.00         1\n",
      "         144       0.00      0.00      0.00         1\n",
      "         147       0.00      0.00      0.00         1\n",
      "         148       0.00      0.00      0.00         2\n",
      "         149       0.00      0.00      0.00         0\n",
      "         151       0.00      0.00      0.00         1\n",
      "         153       0.00      0.00      0.00         1\n",
      "         156       0.00      0.00      0.00         1\n",
      "         157       0.00      0.00      0.00         1\n",
      "         158       0.00      0.00      0.00         1\n",
      "         159       0.00      0.00      0.00         0\n",
      "         160       0.00      0.00      0.00         0\n",
      "         163       0.00      0.00      0.00         2\n",
      "         164       0.00      0.00      0.00         1\n",
      "         165       1.00      1.00      1.00         1\n",
      "         166       0.00      0.00      0.00         1\n",
      "         170       0.00      0.00      0.00         1\n",
      "         174       0.00      0.00      0.00         0\n",
      "         175       0.00      0.00      0.00         1\n",
      "         177       0.00      0.00      0.00         0\n",
      "         181       0.00      0.00      0.00         0\n",
      "         183       0.00      0.00      0.00         1\n",
      "         184       0.00      0.00      0.00         1\n",
      "         187       0.00      0.00      0.00         1\n",
      "         190       0.00      0.00      0.00         1\n",
      "         191       0.00      0.00      0.00         1\n",
      "         192       0.00      0.00      0.00         1\n",
      "         198       0.00      0.00      0.00         1\n",
      "         199       0.00      0.00      0.00         0\n",
      "         200       0.00      0.00      0.00         1\n",
      "         201       0.00      0.00      0.00         1\n",
      "         202       0.00      0.00      0.00         0\n",
      "         203       0.00      0.00      0.00         1\n",
      "         207       0.00      0.00      0.00         0\n",
      "         208       0.00      0.00      0.00         1\n",
      "         209       0.00      0.00      0.00         1\n",
      "         214       0.00      0.00      0.00         1\n",
      "         215       0.00      0.00      0.00         0\n",
      "         218       0.00      0.00      0.00         1\n",
      "         222       0.00      0.00      0.00         1\n",
      "         223       0.00      0.00      0.00         2\n",
      "         226       0.00      0.00      0.00         1\n",
      "         227       0.00      0.00      0.00         1\n",
      "         229       0.00      0.00      0.00         1\n",
      "         231       0.00      0.00      0.00         0\n",
      "         232       0.00      0.00      0.00         1\n",
      "         237       0.00      0.00      0.00         1\n",
      "         239       0.00      0.00      0.00         0\n",
      "         242       0.00      0.00      0.00         0\n",
      "         244       0.00      0.00      0.00         1\n",
      "         245       0.00      0.00      0.00         1\n",
      "         248       0.00      0.00      0.00         1\n",
      "         252       0.00      0.00      0.00         2\n",
      "         254       0.00      0.00      0.00         1\n",
      "         257       0.00      0.00      0.00         1\n",
      "         258       0.00      0.00      0.00         0\n",
      "         259       0.00      0.00      0.00         1\n",
      "         265       0.00      0.00      0.00         1\n",
      "         266       0.00      0.00      0.00         0\n",
      "         269       0.00      0.00      0.00         1\n",
      "         271       0.00      0.00      0.00         0\n",
      "         272       0.00      0.00      0.00         0\n",
      "         275       0.00      0.00      0.00         1\n",
      "         277       0.00      0.00      0.00         1\n",
      "         281       0.00      0.00      0.00         0\n",
      "         284       0.00      0.00      0.00         0\n",
      "         286       0.33      1.00      0.50         1\n",
      "         288       1.00      1.00      1.00         1\n",
      "         289       0.00      0.00      0.00         1\n",
      "         292       0.00      0.00      0.00         0\n",
      "         294       0.00      0.00      0.00         0\n",
      "         295       0.00      0.00      0.00         1\n",
      "         296       0.00      0.00      0.00         0\n",
      "         297       0.00      0.00      0.00         0\n",
      "         298       0.00      0.00      0.00         1\n",
      "         299       0.00      0.00      0.00         1\n",
      "         301       0.00      0.00      0.00         1\n",
      "         304       0.00      0.00      0.00         0\n",
      "         305       0.00      0.00      0.00         0\n",
      "         306       0.00      0.00      0.00         0\n",
      "         307       0.00      0.00      0.00         1\n",
      "         309       0.00      0.00      0.00         1\n",
      "         310       0.00      0.00      0.00         0\n",
      "         313       0.00      0.00      0.00         0\n",
      "         314       0.00      0.00      0.00         1\n",
      "         319       0.00      0.00      0.00         0\n",
      "         320       0.00      0.00      0.00         0\n",
      "         323       0.00      0.00      0.00         1\n",
      "         324       0.00      0.00      0.00         0\n",
      "         328       0.00      0.00      0.00         1\n",
      "         329       0.00      0.00      0.00         0\n",
      "         330       0.00      0.00      0.00         1\n",
      "         331       0.00      0.00      0.00         1\n",
      "         334       0.00      0.00      0.00         1\n",
      "         335       0.00      0.00      0.00         1\n",
      "         337       0.00      0.00      0.00         1\n",
      "         339       0.00      0.00      0.00         1\n",
      "         341       0.00      0.00      0.00         1\n",
      "         343       0.00      0.00      0.00         1\n",
      "         347       0.00      0.00      0.00         1\n",
      "         348       0.00      0.00      0.00         1\n",
      "         352       0.00      0.00      0.00         1\n",
      "         353       0.00      0.00      0.00         1\n",
      "         354       0.00      0.00      0.00         1\n",
      "         355       0.00      0.00      0.00         0\n",
      "         356       0.00      0.00      0.00         1\n",
      "         357       0.00      0.00      0.00         1\n",
      "         358       0.00      0.00      0.00         1\n",
      "         359       0.00      0.00      0.00         0\n",
      "         361       0.00      0.00      0.00         1\n",
      "         362       0.00      0.00      0.00         1\n",
      "         363       0.00      0.00      0.00         1\n",
      "         364       0.00      0.00      0.00         1\n",
      "         365       0.00      0.00      0.00         0\n",
      "         368       0.00      0.00      0.00         0\n",
      "         369       0.00      0.00      0.00         0\n",
      "         370       0.00      0.00      0.00         0\n",
      "         372       0.00      0.00      0.00         1\n",
      "         376       0.00      0.00      0.00         0\n",
      "         378       0.00      0.00      0.00         0\n",
      "         379       0.00      0.00      0.00         1\n",
      "         380       0.00      0.00      0.00         1\n",
      "         383       0.00      0.00      0.00         1\n",
      "         384       0.00      0.00      0.00         1\n",
      "         386       0.00      0.00      0.00         0\n",
      "         387       0.00      0.00      0.00         1\n",
      "         390       0.00      0.00      0.00         1\n",
      "         391       0.00      0.00      0.00         1\n",
      "         392       0.00      0.00      0.00         1\n",
      "         393       0.00      0.00      0.00         0\n",
      "         394       0.00      0.00      0.00         1\n",
      "         395       0.00      0.00      0.00         1\n",
      "         396       0.00      0.00      0.00         1\n",
      "         397       0.00      0.00      0.00         0\n",
      "         398       0.00      0.00      0.00         1\n",
      "         399       0.00      0.00      0.00         0\n",
      "         400       0.00      0.00      0.00         0\n",
      "         401       0.00      0.00      0.00         1\n",
      "         402       0.00      0.00      0.00         0\n",
      "         405       0.00      0.00      0.00         0\n",
      "         409       0.00      0.00      0.00         5\n",
      "         411       0.00      0.00      0.00         0\n",
      "         413       0.00      0.00      0.00         0\n",
      "         414       0.00      0.00      0.00         0\n",
      "         416       0.00      0.00      0.00         1\n",
      "         418       0.00      0.00      0.00         1\n",
      "         419       0.00      0.00      0.00         0\n",
      "         420       1.00      1.00      1.00         1\n",
      "         421       1.00      1.00      1.00         1\n",
      "         423       0.00      0.00      0.00         0\n",
      "         424       0.00      0.00      0.00         0\n",
      "         428       0.00      0.00      0.00         1\n",
      "         429       0.00      0.00      0.00         1\n",
      "         431       0.00      0.00      0.00         1\n",
      "         435       0.00      0.00      0.00         1\n",
      "         436       0.00      0.00      0.00         1\n",
      "         439       0.00      0.00      0.00         1\n",
      "         440       0.00      0.00      0.00         2\n",
      "         441       0.00      0.00      0.00         2\n",
      "         443       0.00      0.00      0.00         1\n",
      "         445       0.00      0.00      0.00         0\n",
      "         446       0.00      0.00      0.00         0\n",
      "         450       0.00      0.00      0.00         0\n",
      "         451       0.00      0.00      0.00         0\n",
      "         452       0.00      0.00      0.00         1\n",
      "         453       0.00      0.00      0.00         1\n",
      "         454       0.00      0.00      0.00         1\n",
      "         455       0.00      0.00      0.00         1\n",
      "         457       0.00      0.00      0.00         1\n",
      "         458       0.00      0.00      0.00         1\n",
      "         459       0.00      0.00      0.00         0\n",
      "         464       0.00      0.00      0.00         0\n",
      "         465       0.00      0.00      0.00         1\n",
      "         467       0.50      1.00      0.67         1\n",
      "         469       0.00      0.00      0.00         1\n",
      "         470       0.00      0.00      0.00         0\n",
      "         472       0.00      0.00      0.00         1\n",
      "         473       0.00      0.00      0.00         1\n",
      "         474       0.00      0.00      0.00         1\n",
      "         475       0.00      0.00      0.00         0\n",
      "         478       0.00      0.00      0.00         1\n",
      "         482       0.00      0.00      0.00         0\n",
      "         484       0.00      0.00      0.00         1\n",
      "         485       0.00      0.00      0.00         1\n",
      "         487       0.00      0.00      0.00         1\n",
      "         492       0.00      0.00      0.00         0\n",
      "         494       0.00      0.00      0.00         0\n",
      "         495       0.00      0.00      0.00         1\n",
      "         496       0.00      0.00      0.00         0\n",
      "         497       0.00      0.00      0.00         2\n",
      "         498       0.00      0.00      0.00         1\n",
      "         499       0.00      0.00      0.00         1\n",
      "         500       0.00      0.00      0.00         0\n",
      "         505       0.00      0.00      0.00         1\n",
      "         506       0.00      0.00      0.00         0\n",
      "         507       0.00      0.00      0.00         1\n",
      "         509       0.00      0.00      0.00         0\n",
      "         511       0.00      0.00      0.00         0\n",
      "         512       0.00      0.00      0.00         1\n",
      "         514       0.00      0.00      0.00         1\n",
      "         516       0.00      0.00      0.00         0\n",
      "         517       0.00      0.00      0.00         1\n",
      "         518       0.00      0.00      0.00         2\n",
      "         519       0.00      0.00      0.00         0\n",
      "         521       0.00      0.00      0.00         0\n",
      "         524       0.00      0.00      0.00         1\n",
      "         525       0.00      0.00      0.00         1\n",
      "         526       0.00      0.00      0.00         1\n",
      "         527       0.00      0.00      0.00         0\n",
      "         529       0.00      0.00      0.00         1\n",
      "         532       0.00      0.00      0.00         0\n",
      "         533       0.50      1.00      0.67         1\n",
      "         534       0.00      0.00      0.00         1\n",
      "         535       0.00      0.00      0.00         1\n",
      "         536       0.00      0.00      0.00         0\n",
      "         537       0.00      0.00      0.00         1\n",
      "         538       0.00      0.00      0.00         1\n",
      "         539       0.00      0.00      0.00         1\n",
      "         540       0.00      0.00      0.00         0\n",
      "         544       0.00      0.00      0.00         0\n",
      "         547       0.00      0.00      0.00         0\n",
      "         550       0.00      0.00      0.00         3\n",
      "         551       0.00      0.00      0.00         1\n",
      "         552       0.00      0.00      0.00         0\n",
      "         553       0.00      0.00      0.00         1\n",
      "         558       0.00      0.00      0.00         0\n",
      "         559       0.00      0.00      0.00         1\n",
      "         561       0.00      0.00      0.00         1\n",
      "         562       0.00      0.00      0.00         1\n",
      "         565       0.00      0.00      0.00         1\n",
      "         567       0.00      0.00      0.00         1\n",
      "         569       0.00      0.00      0.00         2\n",
      "         570       0.00      0.00      0.00         1\n",
      "         579       0.00      0.00      0.00         0\n",
      "         581       0.00      0.00      0.00         1\n",
      "         583       0.00      0.00      0.00         0\n",
      "         584       0.00      0.00      0.00         0\n",
      "         585       0.00      0.00      0.00         1\n",
      "         586       0.00      0.00      0.00         1\n",
      "         588       0.00      0.00      0.00         1\n",
      "         589       0.00      0.00      0.00         1\n",
      "         590       0.00      0.00      0.00         0\n",
      "         591       0.00      0.00      0.00         0\n",
      "         592       0.00      0.00      0.00         0\n",
      "         595       0.00      0.00      0.00         0\n",
      "         600       0.00      0.00      0.00         1\n",
      "         601       0.00      0.00      0.00         1\n",
      "         605       0.00      0.00      0.00         0\n",
      "         607       0.00      0.00      0.00         2\n",
      "         608       1.00      1.00      1.00         1\n",
      "         609       0.00      0.00      0.00         1\n",
      "         610       0.00      0.00      0.00         1\n",
      "         614       0.00      0.00      0.00         0\n",
      "         615       0.00      0.00      0.00         1\n",
      "         616       0.00      0.00      0.00         1\n",
      "         617       0.00      0.00      0.00         1\n",
      "         620       0.00      0.00      0.00         0\n",
      "         621       0.00      0.00      0.00         1\n",
      "         622       0.00      0.00      0.00         0\n",
      "         623       0.00      0.00      0.00         1\n",
      "         626       0.00      0.00      0.00         0\n",
      "         629       0.00      0.00      0.00         1\n",
      "         631       0.00      0.00      0.00         0\n",
      "         632       0.00      0.00      0.00         1\n",
      "         634       0.00      0.00      0.00         1\n",
      "         637       0.00      0.00      0.00         0\n",
      "         638       0.00      0.00      0.00         1\n",
      "         640       0.00      0.00      0.00         1\n",
      "         644       0.00      0.00      0.00         1\n",
      "         645       0.00      0.00      0.00         1\n",
      "         647       0.00      0.00      0.00         1\n",
      "         649       0.00      0.00      0.00         0\n",
      "         650       0.00      0.00      0.00         1\n",
      "         652       0.00      0.00      0.00         1\n",
      "         656       0.12      1.00      0.22         1\n",
      "         659       0.00      0.00      0.00         1\n",
      "         663       0.00      0.00      0.00         0\n",
      "         664       0.00      0.00      0.00         1\n",
      "         668       0.00      0.00      0.00         0\n",
      "         669       0.00      0.00      0.00         1\n",
      "         671       0.00      0.00      0.00         0\n",
      "         676       0.00      0.00      0.00         1\n",
      "         677       0.00      0.00      0.00         0\n",
      "         679       0.00      0.00      0.00         1\n",
      "         680       0.00      0.00      0.00         1\n",
      "         682       0.00      0.00      0.00         0\n",
      "         683       0.00      0.00      0.00         1\n",
      "         684       0.00      0.00      0.00         1\n",
      "         685       0.00      0.00      0.00         1\n",
      "         688       0.00      0.00      0.00         0\n",
      "         689       0.00      0.00      0.00         1\n",
      "         690       0.00      0.00      0.00         1\n",
      "         691       0.00      0.00      0.00         1\n",
      "         694       0.00      0.00      0.00         1\n",
      "         699       0.00      0.00      0.00         1\n",
      "         700       0.00      0.00      0.00         1\n",
      "         702       0.00      0.00      0.00         1\n",
      "         705       0.00      0.00      0.00         2\n",
      "         709       0.00      0.00      0.00         0\n",
      "         710       0.00      0.00      0.00         1\n",
      "         713       0.00      0.00      0.00         0\n",
      "         716       0.00      0.00      0.00         1\n",
      "         719       0.00      0.00      0.00         0\n",
      "         720       0.00      0.00      0.00         0\n",
      "         721       0.00      0.00      0.00         1\n",
      "         722       0.00      0.00      0.00         1\n",
      "         723       0.00      0.00      0.00         0\n",
      "         725       0.00      0.00      0.00         1\n",
      "         728       0.00      0.00      0.00         0\n",
      "         729       0.00      0.00      0.00         2\n",
      "         733       0.00      0.00      0.00         1\n",
      "         734       0.00      0.00      0.00         2\n",
      "         736       0.00      0.00      0.00         0\n",
      "         737       0.00      0.00      0.00         0\n",
      "         738       0.00      0.00      0.00         1\n",
      "         742       0.00      0.00      0.00         1\n",
      "         743       0.00      0.00      0.00         0\n",
      "         745       0.00      0.00      0.00         1\n",
      "         747       0.00      0.00      0.00         1\n",
      "         748       0.00      0.00      0.00         0\n",
      "         751       0.00      0.00      0.00         1\n",
      "         752       0.00      0.00      0.00         0\n",
      "         753       0.00      0.00      0.00         0\n",
      "         755       0.00      0.00      0.00         0\n",
      "         761       0.00      0.00      0.00         0\n",
      "         762       0.00      0.00      0.00         0\n",
      "         764       0.00      0.00      0.00         0\n",
      "         766       0.00      0.00      0.00         1\n",
      "         767       0.00      0.00      0.00         0\n",
      "         771       0.50      1.00      0.67         1\n",
      "         772       0.00      0.00      0.00         1\n",
      "         773       0.00      0.00      0.00         1\n",
      "         774       0.00      0.00      0.00         1\n",
      "         779       0.00      0.00      0.00         0\n",
      "         780       0.00      0.00      0.00         1\n",
      "         783       0.00      0.00      0.00         1\n",
      "         784       0.00      0.00      0.00         1\n",
      "         786       0.00      0.00      0.00         1\n",
      "         787       0.00      0.00      0.00         0\n",
      "         788       0.00      0.00      0.00         1\n",
      "         789       0.00      0.00      0.00         0\n",
      "         790       0.00      0.00      0.00         1\n",
      "         791       0.33      1.00      0.50         1\n",
      "         792       0.00      0.00      0.00         0\n",
      "         793       0.00      0.00      0.00         0\n",
      "         795       0.00      0.00      0.00         1\n",
      "         796       0.00      0.00      0.00         0\n",
      "         797       0.00      0.00      0.00         0\n",
      "         798       0.00      0.00      0.00         1\n",
      "         800       0.00      0.00      0.00         1\n",
      "         801       0.00      0.00      0.00         1\n",
      "         802       0.00      0.00      0.00         1\n",
      "         805       0.00      0.00      0.00         0\n",
      "         814       0.00      0.00      0.00         0\n",
      "         817       0.00      0.00      0.00         1\n",
      "         818       0.00      0.00      0.00         1\n",
      "         819       0.00      0.00      0.00         1\n",
      "         820       0.00      0.00      0.00         1\n",
      "         821       0.00      0.00      0.00         1\n",
      "         823       0.00      0.00      0.00         0\n",
      "         827       0.00      0.00      0.00         0\n",
      "         830       0.00      0.00      0.00         1\n",
      "         831       0.00      0.00      0.00         1\n",
      "         832       0.00      0.00      0.00         0\n",
      "         834       0.00      0.00      0.00         1\n",
      "         835       0.00      0.00      0.00         1\n",
      "         836       0.00      0.00      0.00         1\n",
      "         840       0.00      0.00      0.00         0\n",
      "         843       0.00      0.00      0.00         1\n",
      "\n",
      "    accuracy                           0.05       309\n",
      "   macro avg       0.02      0.03      0.02       309\n",
      "weighted avg       0.03      0.05      0.04       309\n",
      "\n"
     ]
    },
    {
     "name": "stderr",
     "output_type": "stream",
     "text": [
      "C:\\anaconda\\lib\\site-packages\\sklearn\\metrics\\_classification.py:1318: UndefinedMetricWarning: Precision and F-score are ill-defined and being set to 0.0 in labels with no predicted samples. Use `zero_division` parameter to control this behavior.\n",
      "  _warn_prf(average, modifier, msg_start, len(result))\n",
      "C:\\anaconda\\lib\\site-packages\\sklearn\\metrics\\_classification.py:1318: UndefinedMetricWarning: Recall and F-score are ill-defined and being set to 0.0 in labels with no true samples. Use `zero_division` parameter to control this behavior.\n",
      "  _warn_prf(average, modifier, msg_start, len(result))\n",
      "C:\\anaconda\\lib\\site-packages\\sklearn\\metrics\\_classification.py:1318: UndefinedMetricWarning: Precision and F-score are ill-defined and being set to 0.0 in labels with no predicted samples. Use `zero_division` parameter to control this behavior.\n",
      "  _warn_prf(average, modifier, msg_start, len(result))\n",
      "C:\\anaconda\\lib\\site-packages\\sklearn\\metrics\\_classification.py:1318: UndefinedMetricWarning: Recall and F-score are ill-defined and being set to 0.0 in labels with no true samples. Use `zero_division` parameter to control this behavior.\n",
      "  _warn_prf(average, modifier, msg_start, len(result))\n",
      "C:\\anaconda\\lib\\site-packages\\sklearn\\metrics\\_classification.py:1318: UndefinedMetricWarning: Precision and F-score are ill-defined and being set to 0.0 in labels with no predicted samples. Use `zero_division` parameter to control this behavior.\n",
      "  _warn_prf(average, modifier, msg_start, len(result))\n",
      "C:\\anaconda\\lib\\site-packages\\sklearn\\metrics\\_classification.py:1318: UndefinedMetricWarning: Recall and F-score are ill-defined and being set to 0.0 in labels with no true samples. Use `zero_division` parameter to control this behavior.\n",
      "  _warn_prf(average, modifier, msg_start, len(result))\n"
     ]
    }
   ],
   "source": [
    "from sklearn.metrics import classification_report\n",
    "print(classification_report(Y_test, Y_pred))"
   ]
  },
  {
   "cell_type": "markdown",
   "id": "a50eac1a",
   "metadata": {},
   "source": [
    "# svm"
   ]
  },
  {
   "cell_type": "code",
   "execution_count": 50,
   "id": "68809d4e",
   "metadata": {},
   "outputs": [],
   "source": [
    "from sklearn.svm import SVR"
   ]
  },
  {
   "cell_type": "code",
   "execution_count": 51,
   "id": "df389d91",
   "metadata": {},
   "outputs": [],
   "source": [
    "regressor=SVR(kernel='linear',degree=1)"
   ]
  },
  {
   "cell_type": "code",
   "execution_count": 52,
   "id": "3db4dc11",
   "metadata": {},
   "outputs": [],
   "source": [
    "import matplotlib.pyplot as plt"
   ]
  },
  {
   "cell_type": "code",
   "execution_count": 53,
   "id": "2ccbd43d",
   "metadata": {},
   "outputs": [
    {
     "data": {
      "text/plain": [
       "<matplotlib.collections.PathCollection at 0x20e94559b50>"
      ]
     },
     "execution_count": 53,
     "metadata": {},
     "output_type": "execute_result"
    },
    {
     "data": {
      "image/png": "[encoded data removed]",
      "text/plain": [
       "<Figure size 432x288 with 1 Axes>"
      ]
     },
     "metadata": {
      "needs_background": "light"
     },
     "output_type": "display_data"
    }
   ],
   "source": [
    "plt.scatter(df['age'],df['csMPa'])"
   ]
  },
  {
   "cell_type": "code",
   "execution_count": 54,
   "id": "b6f8bdaf",
   "metadata": {},
   "outputs": [
    {
     "data": {
      "text/html": [
       "<div>\n",
       "<style scoped>\n",
       "    .dataframe tbody tr th:only-of-type {\n",
       "        vertical-align: middle;\n",
       "    }\n",
       "\n",
       "    .dataframe tbody tr th {\n",
       "        vertical-align: top;\n",
       "    }\n",
       "\n",
       "    .dataframe thead th {\n",
       "        text-align: right;\n",
       "    }\n",
       "</style>\n",
       "<table border=\"1\" class=\"dataframe\">\n",
       "  <thead>\n",
       "    <tr style=\"text-align: right;\">\n",
       "      <th></th>\n",
       "      <th>cement</th>\n",
       "      <th>slag</th>\n",
       "      <th>flyash</th>\n",
       "      <th>water</th>\n",
       "      <th>superplasticizer</th>\n",
       "      <th>coarseaggregate</th>\n",
       "      <th>fineaggregate</th>\n",
       "      <th>age</th>\n",
       "      <th>csMPa</th>\n",
       "    </tr>\n",
       "  </thead>\n",
       "  <tbody>\n",
       "    <tr>\n",
       "      <th>0</th>\n",
       "      <td>540.0</td>\n",
       "      <td>135.7</td>\n",
       "      <td>121.4</td>\n",
       "      <td>162.0</td>\n",
       "      <td>2.5</td>\n",
       "      <td>1040.0</td>\n",
       "      <td>676.0</td>\n",
       "      <td>28</td>\n",
       "      <td>79.99</td>\n",
       "    </tr>\n",
       "    <tr>\n",
       "      <th>1</th>\n",
       "      <td>540.0</td>\n",
       "      <td>135.7</td>\n",
       "      <td>121.4</td>\n",
       "      <td>162.0</td>\n",
       "      <td>2.5</td>\n",
       "      <td>1055.0</td>\n",
       "      <td>676.0</td>\n",
       "      <td>28</td>\n",
       "      <td>61.89</td>\n",
       "    </tr>\n",
       "    <tr>\n",
       "      <th>2</th>\n",
       "      <td>332.5</td>\n",
       "      <td>142.5</td>\n",
       "      <td>121.4</td>\n",
       "      <td>228.0</td>\n",
       "      <td>9.4</td>\n",
       "      <td>932.0</td>\n",
       "      <td>594.0</td>\n",
       "      <td>270</td>\n",
       "      <td>40.27</td>\n",
       "    </tr>\n",
       "    <tr>\n",
       "      <th>3</th>\n",
       "      <td>332.5</td>\n",
       "      <td>142.5</td>\n",
       "      <td>121.4</td>\n",
       "      <td>228.0</td>\n",
       "      <td>9.4</td>\n",
       "      <td>932.0</td>\n",
       "      <td>594.0</td>\n",
       "      <td>365</td>\n",
       "      <td>41.05</td>\n",
       "    </tr>\n",
       "    <tr>\n",
       "      <th>4</th>\n",
       "      <td>198.6</td>\n",
       "      <td>132.4</td>\n",
       "      <td>121.4</td>\n",
       "      <td>192.0</td>\n",
       "      <td>9.4</td>\n",
       "      <td>978.4</td>\n",
       "      <td>825.5</td>\n",
       "      <td>360</td>\n",
       "      <td>44.30</td>\n",
       "    </tr>\n",
       "  </tbody>\n",
       "</table>\n",
       "</div>"
      ],
      "text/plain": [
       "   cement   slag  flyash  water  superplasticizer  coarseaggregate  \\\n",
       "0   540.0  135.7   121.4  162.0               2.5           1040.0   \n",
       "1   540.0  135.7   121.4  162.0               2.5           1055.0   \n",
       "2   332.5  142.5   121.4  228.0               9.4            932.0   \n",
       "3   332.5  142.5   121.4  228.0               9.4            932.0   \n",
       "4   198.6  132.4   121.4  192.0               9.4            978.4   \n",
       "\n",
       "   fineaggregate  age  csMPa  \n",
       "0          676.0   28  79.99  \n",
       "1          676.0   28  61.89  \n",
       "2          594.0  270  40.27  \n",
       "3          594.0  365  41.05  \n",
       "4          825.5  360  44.30  "
      ]
     },
     "execution_count": 54,
     "metadata": {},
     "output_type": "execute_result"
    }
   ],
   "source": [
    "df.head()"
   ]
  },
  {
   "cell_type": "code",
   "execution_count": 55,
   "id": "8bba5dd7",
   "metadata": {},
   "outputs": [],
   "source": [
    "from sklearn.model_selection import train_test_split\n",
    "X_train, X_test, Y_train, Y_test=train_test_split(X,Y,test_size=0.3, random_state=42)"
   ]
  },
  {
   "cell_type": "code",
   "execution_count": 56,
   "id": "8f2aa88a",
   "metadata": {},
   "outputs": [
    {
     "data": {
      "text/plain": [
       "SVR(degree=1, kernel='linear')"
      ]
     },
     "execution_count": 56,
     "metadata": {},
     "output_type": "execute_result"
    }
   ],
   "source": [
    "regressor.fit(X_train,Y_train)"
   ]
  },
  {
   "cell_type": "code",
   "execution_count": 57,
   "id": "e0ffd33d",
   "metadata": {},
   "outputs": [],
   "source": [
    "pred=regressor.predict(X_test)"
   ]
  },
  {
   "cell_type": "code",
   "execution_count": 58,
   "id": "e0d4a43b",
   "metadata": {},
   "outputs": [
    {
     "name": "stdout",
     "output_type": "stream",
     "text": [
      "0.5300110174341908\n"
     ]
    }
   ],
   "source": [
    "print(regressor.score(X_test,Y_test))"
   ]
  },
  {
   "cell_type": "code",
   "execution_count": 59,
   "id": "3c6c9c31",
   "metadata": {},
   "outputs": [],
   "source": [
    "from sklearn.metrics import r2_score"
   ]
  },
  {
   "cell_type": "code",
   "execution_count": 60,
   "id": "d531bb7c",
   "metadata": {},
   "outputs": [
    {
     "name": "stdout",
     "output_type": "stream",
     "text": [
      "0.5300110174341908\n"
     ]
    }
   ],
   "source": [
    "print(r2_score(Y_test,pred))"
   ]
  },
  {
   "cell_type": "code",
   "execution_count": 61,
   "id": "7a0c2234",
   "metadata": {},
   "outputs": [
    {
     "name": "stdout",
     "output_type": "stream",
     "text": [
      "0.027116754420378864\n",
      "0.027116754420378864\n"
     ]
    }
   ],
   "source": [
    "regressor=SVR(kernel='rbf',epsilon=1.0)\n",
    "regressor.fit(X_train,Y_train)\n",
    "pred=regressor.predict(X_test)\n",
    "print(regressor.score(X_test,Y_test))\n",
    "print(r2_score(Y_test,pred))"
   ]
  },
  {
   "cell_type": "markdown",
   "id": "e8e14e4a",
   "metadata": {},
   "source": [
    "# polynomial regression degree 2"
   ]
  },
  {
   "cell_type": "code",
   "execution_count": 79,
   "id": "251ed4ff",
   "metadata": {},
   "outputs": [
    {
     "name": "stdout",
     "output_type": "stream",
     "text": [
      "0.7465025801549512\n"
     ]
    }
   ],
   "source": [
    "#applying polynomial regression degree 2\n",
    "poly = PolynomialFeatures(degree=2, include_bias=True)\n",
    "X_train_trans = poly.fit_transform(X_train)\n",
    "X_test_trans = poly.transform(X_test)\n",
    "#include bias parameter\n",
    "lr = LinearRegression()\n",
    "lr.fit(X_train_trans, Y_train)\n",
    "Y_pred = lr.predict(X_test_trans)\n",
    "print(r2_score(Y_test, Y_pred))"
   ]
  },
  {
   "cell_type": "markdown",
   "id": "54ac2b1f",
   "metadata": {},
   "source": [
    "# polynomial regression degree 3"
   ]
  },
  {
   "cell_type": "code",
   "execution_count": 80,
   "id": "d48720eb",
   "metadata": {},
   "outputs": [
    {
     "name": "stdout",
     "output_type": "stream",
     "text": [
      "0.8139100231086578\n"
     ]
    }
   ],
   "source": [
    "#applying polynomial regression degree 3\n",
    "poly = PolynomialFeatures(degree=3, include_bias=True)\n",
    "X_train_trans = poly.fit_transform(X_train)\n",
    "X_test_trans = poly.transform(X_test)\n",
    "#include bias parameter\n",
    "lr = LinearRegression()\n",
    "lr.fit(X_train_trans, Y_train)\n",
    "Y_pred = lr.predict(X_test_trans)\n",
    "print(r2_score(Y_test, Y_pred))"
   ]
  },
  {
   "cell_type": "code",
   "execution_count": null,
   "id": "50d7f069",
   "metadata": {},
   "outputs": [],
   "source": []
  }
 ],
 "metadata": {
  "kernelspec": {
   "display_name": "Python 3 (ipykernel)",
   "language": "python",
   "name": "python3"
  },
  "language_info": {
   "codemirror_mode": {
    "name": "ipython",
    "version": 3
   },
   "file_extension": ".py",
   "mimetype": "text/x-python",
   "name": "python",
   "nbconvert_exporter": "python",
   "pygments_lexer": "ipython3",
   "version": "3.9.12"
  }
 },
 "nbformat": 4,
 "nbformat_minor": 5
}
